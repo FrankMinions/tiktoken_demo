{
 "cells": [
  {
   "cell_type": "code",
   "execution_count": null,
   "id": "99edeb45",
   "metadata": {},
   "outputs": [],
   "source": [
    "import base64\n",
    "from tiktoken._educational import SimpleBytePairEncoding"
   ]
  },
  {
   "cell_type": "code",
   "execution_count": null,
   "id": "f9534190",
   "metadata": {},
   "outputs": [],
   "source": [
    "PAT_STR = r\"\"\"(?i:'s|'t|'re|'ve|'m|'ll|'d)|[^\\r\\n\\p{L}\\p{N}]?\\p{L}+|\\p{N}| ?[^\\s\\p{L}\\p{N}]+[\\r\\n]*|\\s*[\\r\\n]+|\\s+(?!\\S)|\\s+\"\"\""
   ]
  },
  {
   "cell_type": "code",
   "execution_count": null,
   "id": "99a59cf3",
   "metadata": {},
   "outputs": [],
   "source": [
    "with open(\"/path/to/your/*.txt\") as f:\n",
    "    training_data = f.read()"
   ]
  },
  {
   "cell_type": "code",
   "execution_count": null,
   "id": "65d9e28a",
   "metadata": {},
   "outputs": [],
   "source": [
    "simply_bpe = SimpleBytePairEncoding.train(training_data=training_data, vocab_size=16000, pat_str=PAT_STR)\n",
    "\n",
    "with open(\"/path/to/your/*.tiktoken\", mode=\"w\", encoding=\"utf-8\") as f:\n",
    "    for k, v in simply_bpe.mergeable_ranks.items():\n",
    "        line = base64.b64encode(k).decode(\"utf-8\") + \" \" + str(v) + \"\\n\"\n",
    "        f.write(line)"
   ]
  }
 ],
 "metadata": {
  "kernelspec": {
   "display_name": "Python 3 (ipykernel)",
   "language": "python",
   "name": "python3"
  },
  "language_info": {
   "codemirror_mode": {
    "name": "ipython",
    "version": 3
   },
   "file_extension": ".py",
   "mimetype": "text/x-python",
   "name": "python",
   "nbconvert_exporter": "python",
   "pygments_lexer": "ipython3",
   "version": "3.11.4"
  }
 },
 "nbformat": 4,
 "nbformat_minor": 5
}
