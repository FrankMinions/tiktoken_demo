{
 "cells": [
  {
   "cell_type": "code",
   "execution_count": null,
   "id": "862b6987",
   "metadata": {
    "scrolled": true
   },
   "outputs": [],
   "source": [
    "import tiktoken\n",
    "from tiktoken.load import load_tiktoken_bpe"
   ]
  },
  {
   "cell_type": "code",
   "execution_count": null,
   "id": "cccb096a",
   "metadata": {
    "scrolled": true
   },
   "outputs": [],
   "source": [
    "mergeable_ranks = load_tiktoken_bpe(\"./openai_tokenizer/cl100k_base.tiktoken\")"
   ]
  },
  {
   "cell_type": "code",
   "execution_count": null,
   "id": "84e7b5bc",
   "metadata": {
    "scrolled": true
   },
   "outputs": [],
   "source": [
    "decoder = {v: k for k, v in mergeable_ranks.items()}  "
   ]
  },
  {
   "cell_type": "code",
   "execution_count": null,
   "id": "9cc81ef6",
   "metadata": {
    "scrolled": true
   },
   "outputs": [],
   "source": [
    "ENDOFTEXT = \"<|endoftext|>\"\n",
    "FIM_PREFIX = \"<|fim_prefix|>\"\n",
    "FIM_MIDDLE = \"<|fim_middle|>\"\n",
    "FIM_SUFFIX = \"<|fim_suffix|>\"\n",
    "ENDOFPROMPT = \"<|endofprompt|>\""
   ]
  },
  {
   "cell_type": "code",
   "execution_count": null,
   "id": "92011f74",
   "metadata": {
    "scrolled": true
   },
   "outputs": [],
   "source": [
    "special_tokens = {\n",
    "    ENDOFTEXT: 100257,\n",
    "    FIM_PREFIX: 100258,\n",
    "    FIM_MIDDLE: 100259,\n",
    "    FIM_SUFFIX: 100260,\n",
    "    ENDOFPROMPT: 100276,\n",
    "}\n",
    "decoder.update({v: k for k, v in special_tokens.items()})\n",
    "\n",
    "enc = tiktoken.Encoding(\n",
    "    \"cl100k_base\",\n",
    "    pat_str=r\"\"\"(?i:'s|'t|'re|'ve|'m|'ll|'d)|[^\\r\\n\\p{L}\\p{N}]?\\p{L}+|\\p{N}{1,3}| ?[^\\s\\p{L}\\p{N}]+[\\r\\n]*|\\s*[\\r\\n]+|\\s+(?!\\S)|\\s+\"\"\",\n",
    "    mergeable_ranks=mergeable_ranks,\n",
    "    special_tokens=special_tokens,\n",
    ")"
   ]
  },
  {
   "cell_type": "code",
   "execution_count": null,
   "id": "3f65207e",
   "metadata": {
    "scrolled": true
   },
   "outputs": [],
   "source": [
    "prompt = \"How is the weather in New York today?\""
   ]
  },
  {
   "cell_type": "code",
   "execution_count": null,
   "id": "cd2c74d0",
   "metadata": {
    "scrolled": true
   },
   "outputs": [],
   "source": [
    "# enc.decode(enc.encode(prompt))\n",
    "\n",
    "# You can use the following method to count the number of tokens\n",
    "# len(enc.encode(prompt))\n",
    "\n",
    "tokens = [enc.decode_single_token_bytes(token) for token in enc.encode(prompt)]"
   ]
  },
  {
   "cell_type": "code",
   "execution_count": null,
   "id": "835263eb",
   "metadata": {
    "scrolled": true
   },
   "outputs": [],
   "source": [
    "tokens"
   ]
  },
  {
   "cell_type": "code",
   "execution_count": null,
   "id": "4cdf93e4",
   "metadata": {
    "scrolled": true
   },
   "outputs": [],
   "source": [
    "tokens_string = [token.decode(\"utf-8\", errors=\"replace\") for token in tokens]"
   ]
  },
  {
   "cell_type": "code",
   "execution_count": null,
   "id": "daa52f0a",
   "metadata": {
    "scrolled": true
   },
   "outputs": [],
   "source": [
    "tokens_string"
   ]
  }
 ],
 "metadata": {
  "kernelspec": {
   "display_name": "Python 3 (ipykernel)",
   "language": "python",
   "name": "python3"
  },
  "language_info": {
   "codemirror_mode": {
    "name": "ipython",
    "version": 3
   },
   "file_extension": ".py",
   "mimetype": "text/x-python",
   "name": "python",
   "nbconvert_exporter": "python",
   "pygments_lexer": "ipython3",
   "version": "3.8.13"
  }
 },
 "nbformat": 4,
 "nbformat_minor": 5
}
