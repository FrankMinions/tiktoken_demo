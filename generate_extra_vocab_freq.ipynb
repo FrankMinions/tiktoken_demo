{
 "cells": [
  {
   "cell_type": "code",
   "execution_count": null,
   "id": "bc699a4f",
   "metadata": {},
   "outputs": [],
   "source": [
    "import tiktoken\n",
    "import unicodedata\n",
    "from typing import Union, Set, Collection\n",
    "from tiktoken.load import load_tiktoken_bpe"
   ]
  },
  {
   "cell_type": "code",
   "execution_count": null,
   "id": "e1b04000",
   "metadata": {},
   "outputs": [],
   "source": [
    "class Arguments:\n",
    "    def __init__(self):\n",
    "        self.name = \"my_tiktoken\"\n",
    "        self.vocab_file = \"/path/to/your/*.tiktoken\"\n",
    "        self.text_file = \"/path/to/your/*.txt\"\n",
    "        self.extra_vocab_file = \"/path/to/your/*.txt\""
   ]
  },
  {
   "cell_type": "code",
   "execution_count": null,
   "id": "14a74772",
   "metadata": {},
   "outputs": [],
   "source": [
    "class MyTokenizer:\n",
    "    \"\"\"Refer to Qwen tokenizer.\"\"\"\n",
    "    \n",
    "    def __init__(self, configs):\n",
    "        self.pat_str = r\"\"\"(?i:'s|'t|'re|'ve|'m|'ll|'d)|[^\\r\\n\\p{L}\\p{N}]?\\p{L}+|\\p{N}| ?[^\\s\\p{L}\\p{N}]+[\\r\\n]*|\\s*[\\r\\n]+|\\s+(?!\\S)|\\s+\"\"\"\n",
    "        self.endoftext = \"<|endoftext|>\"\n",
    "        self.im_start = \"<|im_start|>\"\n",
    "        self.im_end = \"<|im_end|>\"\n",
    "        self.extras = tuple((f\"<|extra_{i}|>\" for i in range(205)))\n",
    "        self.special_start_id = 151643\n",
    "        self.special_tokens = {\n",
    "            token: index\n",
    "            for index, token in tuple(enumerate(\n",
    "                (\n",
    "                        (self.endoftext, self.im_start, self.im_end,) + self.extras\n",
    "                ),\n",
    "                start=self.special_start_id))\n",
    "        }\n",
    "        self.mergeable_ranks = load_tiktoken_bpe(configs.vocab_file)\n",
    "        self.tokenizer = tiktoken.Encoding(\n",
    "            name=configs.name,\n",
    "            pat_str=self.pat_str,\n",
    "            mergeable_ranks=self.mergeable_ranks,\n",
    "            special_tokens=self.special_tokens\n",
    "        )\n",
    "        self.decoder = {v: k.decode(\"utf-8\", errors=\"replace\") for k, v in self.mergeable_ranks.items()}\n",
    "        self.decoder.update({v: k for k, v in self.special_tokens.items()})\n",
    "\n",
    "    def tokenize(self, text: str, allowed_special: Union[Set, str]=\"all\", disallowed_special: Union[Collection, str]=(), **kwargs):\n",
    "        tokens = []\n",
    "        text = unicodedata.normalize(\"NFC\", text)\n",
    "        for t in self.tokenizer.encode(text, allowed_special=allowed_special, disallowed_special=disallowed_special):\n",
    "            tokens.append(self.decoder[t])\n",
    "        return tokens"
   ]
  },
  {
   "cell_type": "code",
   "execution_count": null,
   "id": "0c4896d4",
   "metadata": {},
   "outputs": [],
   "source": [
    "configs = Arguments()\n",
    "my_tokenizer = MyTokenizer(configs)\n",
    "\n",
    "results = {}\n",
    "with open(configs.text_file) as f:\n",
    "    text = f.read()\n",
    "\n",
    "tokens = my_tokenizer.tokenize(text)\n",
    "for token in tokens:\n",
    "    results.setdefault(token, 0)\n",
    "    results[token] += 1\n",
    "\n",
    "with open(configs.extra_vocab_file, mode=\"w\", encoding=\"utf-8\") as f:\n",
    "    for k, v in results.items():\n",
    "        f.write(k+\"\\t\"+str(v))\n",
    "        f.write(\"\\n\")"
   ]
  }
 ],
 "metadata": {
  "kernelspec": {
   "display_name": "Python 3 (ipykernel)",
   "language": "python",
   "name": "python3"
  },
  "language_info": {
   "codemirror_mode": {
    "name": "ipython",
    "version": 3
   },
   "file_extension": ".py",
   "mimetype": "text/x-python",
   "name": "python",
   "nbconvert_exporter": "python",
   "pygments_lexer": "ipython3",
   "version": "3.11.4"
  }
 },
 "nbformat": 4,
 "nbformat_minor": 5
}
